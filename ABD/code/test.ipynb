{
 "cells": [
  {
   "cell_type": "code",
   "execution_count": null,
   "metadata": {},
   "outputs": [],
   "source": [
    "!python test_ACDC.py --exp BCP_original --gpu 0"
   ]
  },
  {
   "cell_type": "code",
   "execution_count": 3,
   "metadata": {},
   "outputs": [
    {
     "name": "stderr",
     "output_type": "stream",
     "text": [
      "/tmp/ipykernel_1522084/2001665576.py:23: RuntimeWarning: More than 20 figures have been opened. Figures created through the pyplot interface (`matplotlib.pyplot.figure`) are retained until explicitly closed and may consume too much memory. (To control this warning, see the rcParam `figure.max_open_warning`). Consider using `matplotlib.pyplot.close()`.\n",
      "  fig, axes = plt.subplots(1, 3, figsize=(15, 5))\n"
     ]
    },
    {
     "name": "stdout",
     "output_type": "stream",
     "text": [
      "Following files will be zipped:\n",
      "../model/BCP/ACDC_SDCL_test_b_6_7_labeled/unet_predictions/visualized/patient066_frame02.jpg\n",
      "../model/BCP/ACDC_SDCL_test_b_6_7_labeled/unet_predictions/visualized/patient081_frame01.jpg\n",
      "../model/BCP/ACDC_SDCL_test_b_6_7_labeled/unet_predictions/visualized/patient059_frame02.jpg\n",
      "../model/BCP/ACDC_SDCL_test_b_6_7_labeled/unet_predictions/visualized/patient008_frame01.jpg\n",
      "../model/BCP/ACDC_SDCL_test_b_6_7_labeled/unet_predictions/visualized/patient007_frame01.jpg\n",
      "../model/BCP/ACDC_SDCL_test_b_6_7_labeled/unet_predictions/visualized/patient065_frame01.jpg\n",
      "../model/BCP/ACDC_SDCL_test_b_6_7_labeled/unet_predictions/visualized/patient024_frame02.jpg\n",
      "../model/BCP/ACDC_SDCL_test_b_6_7_labeled/unet_predictions/visualized/patient075_frame01.jpg\n",
      "../model/BCP/ACDC_SDCL_test_b_6_7_labeled/unet_predictions/visualized/patient093_frame01.jpg\n",
      "../model/BCP/ACDC_SDCL_test_b_6_7_labeled/unet_predictions/visualized/patient083_frame01.jpg\n",
      "../model/BCP/ACDC_SDCL_test_b_6_7_labeled/unet_predictions/visualized/patient064_frame02.jpg\n",
      "../model/BCP/ACDC_SDCL_test_b_6_7_labeled/unet_predictions/visualized/patient068_frame01.jpg\n",
      "../model/BCP/ACDC_SDCL_test_b_6_7_labeled/unet_predictions/visualized/patient080_frame02.jpg\n",
      "../model/BCP/ACDC_SDCL_test_b_6_7_labeled/unet_predictions/visualized/patient052_frame02.jpg\n",
      "../model/BCP/ACDC_SDCL_test_b_6_7_labeled/unet_predictions/visualized/patient013_frame01.jpg\n",
      "../model/BCP/ACDC_SDCL_test_b_6_7_labeled/unet_predictions/visualized/patient033_frame01.jpg\n",
      "../model/BCP/ACDC_SDCL_test_b_6_7_labeled/unet_predictions/visualized/patient022_frame02.jpg\n",
      "../model/BCP/ACDC_SDCL_test_b_6_7_labeled/unet_predictions/visualized/patient011_frame01.jpg\n",
      "../model/BCP/ACDC_SDCL_test_b_6_7_labeled/unet_predictions/visualized/patient001_frame01.jpg\n",
      "../model/BCP/ACDC_SDCL_test_b_6_7_labeled/unet_predictions/visualized/patient084_frame02.jpg\n",
      "../model/BCP/ACDC_SDCL_test_b_6_7_labeled/unet_predictions/visualized/patient011_frame02.jpg\n",
      "../model/BCP/ACDC_SDCL_test_b_6_7_labeled/unet_predictions/visualized/patient022_frame01.jpg\n",
      "../model/BCP/ACDC_SDCL_test_b_6_7_labeled/unet_predictions/visualized/patient084_frame01.jpg\n",
      "../model/BCP/ACDC_SDCL_test_b_6_7_labeled/unet_predictions/visualized/patient001_frame02.jpg\n",
      "../model/BCP/ACDC_SDCL_test_b_6_7_labeled/unet_predictions/visualized/patient052_frame01.jpg\n",
      "../model/BCP/ACDC_SDCL_test_b_6_7_labeled/unet_predictions/visualized/patient013_frame02.jpg\n",
      "../model/BCP/ACDC_SDCL_test_b_6_7_labeled/unet_predictions/visualized/patient033_frame02.jpg\n",
      "../model/BCP/ACDC_SDCL_test_b_6_7_labeled/unet_predictions/visualized/patient093_frame02.jpg\n",
      "../model/BCP/ACDC_SDCL_test_b_6_7_labeled/unet_predictions/visualized/patient083_frame02.jpg\n",
      "../model/BCP/ACDC_SDCL_test_b_6_7_labeled/unet_predictions/visualized/patient064_frame01.jpg\n",
      "../model/BCP/ACDC_SDCL_test_b_6_7_labeled/unet_predictions/visualized/patient080_frame01.jpg\n",
      "../model/BCP/ACDC_SDCL_test_b_6_7_labeled/unet_predictions/visualized/patient068_frame02.jpg\n",
      "../model/BCP/ACDC_SDCL_test_b_6_7_labeled/unet_predictions/visualized/patient066_frame01.jpg\n",
      "../model/BCP/ACDC_SDCL_test_b_6_7_labeled/unet_predictions/visualized/patient081_frame02.jpg\n",
      "../model/BCP/ACDC_SDCL_test_b_6_7_labeled/unet_predictions/visualized/patient065_frame02.jpg\n",
      "../model/BCP/ACDC_SDCL_test_b_6_7_labeled/unet_predictions/visualized/patient059_frame01.jpg\n",
      "../model/BCP/ACDC_SDCL_test_b_6_7_labeled/unet_predictions/visualized/patient008_frame02.jpg\n",
      "../model/BCP/ACDC_SDCL_test_b_6_7_labeled/unet_predictions/visualized/patient007_frame02.jpg\n",
      "../model/BCP/ACDC_SDCL_test_b_6_7_labeled/unet_predictions/visualized/patient024_frame01.jpg\n",
      "../model/BCP/ACDC_SDCL_test_b_6_7_labeled/unet_predictions/visualized/patient075_frame02.jpg\n",
      "All files zipped successfully!\n"
     ]
    },
    {
     "data": {
      "text/plain": [
       "<Figure size 640x480 with 0 Axes>"
      ]
     },
     "metadata": {},
     "output_type": "display_data"
    },
    {
     "data": {
      "text/plain": [
       "<Figure size 1500x500 with 0 Axes>"
      ]
     },
     "metadata": {},
     "output_type": "display_data"
    },
    {
     "data": {
      "text/plain": [
       "<Figure size 1500x500 with 0 Axes>"
      ]
     },
     "metadata": {},
     "output_type": "display_data"
    },
    {
     "data": {
      "text/plain": [
       "<Figure size 1500x500 with 0 Axes>"
      ]
     },
     "metadata": {},
     "output_type": "display_data"
    },
    {
     "data": {
      "text/plain": [
       "<Figure size 1500x500 with 0 Axes>"
      ]
     },
     "metadata": {},
     "output_type": "display_data"
    },
    {
     "data": {
      "text/plain": [
       "<Figure size 1500x500 with 0 Axes>"
      ]
     },
     "metadata": {},
     "output_type": "display_data"
    },
    {
     "data": {
      "text/plain": [
       "<Figure size 1500x500 with 0 Axes>"
      ]
     },
     "metadata": {},
     "output_type": "display_data"
    },
    {
     "data": {
      "text/plain": [
       "<Figure size 1500x500 with 0 Axes>"
      ]
     },
     "metadata": {},
     "output_type": "display_data"
    },
    {
     "data": {
      "text/plain": [
       "<Figure size 1500x500 with 0 Axes>"
      ]
     },
     "metadata": {},
     "output_type": "display_data"
    },
    {
     "data": {
      "text/plain": [
       "<Figure size 1500x500 with 0 Axes>"
      ]
     },
     "metadata": {},
     "output_type": "display_data"
    },
    {
     "data": {
      "text/plain": [
       "<Figure size 1500x500 with 0 Axes>"
      ]
     },
     "metadata": {},
     "output_type": "display_data"
    },
    {
     "data": {
      "text/plain": [
       "<Figure size 1500x500 with 0 Axes>"
      ]
     },
     "metadata": {},
     "output_type": "display_data"
    },
    {
     "data": {
      "text/plain": [
       "<Figure size 1500x500 with 0 Axes>"
      ]
     },
     "metadata": {},
     "output_type": "display_data"
    },
    {
     "data": {
      "text/plain": [
       "<Figure size 1500x500 with 0 Axes>"
      ]
     },
     "metadata": {},
     "output_type": "display_data"
    },
    {
     "data": {
      "text/plain": [
       "<Figure size 1500x500 with 0 Axes>"
      ]
     },
     "metadata": {},
     "output_type": "display_data"
    },
    {
     "data": {
      "text/plain": [
       "<Figure size 1500x500 with 0 Axes>"
      ]
     },
     "metadata": {},
     "output_type": "display_data"
    },
    {
     "data": {
      "text/plain": [
       "<Figure size 1500x500 with 0 Axes>"
      ]
     },
     "metadata": {},
     "output_type": "display_data"
    },
    {
     "data": {
      "text/plain": [
       "<Figure size 1500x500 with 0 Axes>"
      ]
     },
     "metadata": {},
     "output_type": "display_data"
    },
    {
     "data": {
      "text/plain": [
       "<Figure size 1500x500 with 0 Axes>"
      ]
     },
     "metadata": {},
     "output_type": "display_data"
    },
    {
     "data": {
      "text/plain": [
       "<Figure size 1500x500 with 0 Axes>"
      ]
     },
     "metadata": {},
     "output_type": "display_data"
    },
    {
     "data": {
      "text/plain": [
       "<Figure size 1500x500 with 0 Axes>"
      ]
     },
     "metadata": {},
     "output_type": "display_data"
    },
    {
     "data": {
      "text/plain": [
       "<Figure size 1500x500 with 0 Axes>"
      ]
     },
     "metadata": {},
     "output_type": "display_data"
    },
    {
     "data": {
      "text/plain": [
       "<Figure size 1500x500 with 0 Axes>"
      ]
     },
     "metadata": {},
     "output_type": "display_data"
    },
    {
     "data": {
      "text/plain": [
       "<Figure size 1500x500 with 0 Axes>"
      ]
     },
     "metadata": {},
     "output_type": "display_data"
    },
    {
     "data": {
      "text/plain": [
       "<Figure size 1500x500 with 0 Axes>"
      ]
     },
     "metadata": {},
     "output_type": "display_data"
    },
    {
     "data": {
      "text/plain": [
       "<Figure size 1500x500 with 0 Axes>"
      ]
     },
     "metadata": {},
     "output_type": "display_data"
    },
    {
     "data": {
      "text/plain": [
       "<Figure size 1500x500 with 0 Axes>"
      ]
     },
     "metadata": {},
     "output_type": "display_data"
    },
    {
     "data": {
      "text/plain": [
       "<Figure size 1500x500 with 0 Axes>"
      ]
     },
     "metadata": {},
     "output_type": "display_data"
    },
    {
     "data": {
      "text/plain": [
       "<Figure size 1500x500 with 0 Axes>"
      ]
     },
     "metadata": {},
     "output_type": "display_data"
    },
    {
     "data": {
      "text/plain": [
       "<Figure size 1500x500 with 0 Axes>"
      ]
     },
     "metadata": {},
     "output_type": "display_data"
    },
    {
     "data": {
      "text/plain": [
       "<Figure size 1500x500 with 0 Axes>"
      ]
     },
     "metadata": {},
     "output_type": "display_data"
    },
    {
     "data": {
      "text/plain": [
       "<Figure size 1500x500 with 0 Axes>"
      ]
     },
     "metadata": {},
     "output_type": "display_data"
    },
    {
     "data": {
      "text/plain": [
       "<Figure size 1500x500 with 0 Axes>"
      ]
     },
     "metadata": {},
     "output_type": "display_data"
    },
    {
     "data": {
      "text/plain": [
       "<Figure size 1500x500 with 0 Axes>"
      ]
     },
     "metadata": {},
     "output_type": "display_data"
    },
    {
     "data": {
      "text/plain": [
       "<Figure size 1500x500 with 0 Axes>"
      ]
     },
     "metadata": {},
     "output_type": "display_data"
    },
    {
     "data": {
      "text/plain": [
       "<Figure size 1500x500 with 0 Axes>"
      ]
     },
     "metadata": {},
     "output_type": "display_data"
    },
    {
     "data": {
      "text/plain": [
       "<Figure size 1500x500 with 0 Axes>"
      ]
     },
     "metadata": {},
     "output_type": "display_data"
    },
    {
     "data": {
      "text/plain": [
       "<Figure size 1500x500 with 0 Axes>"
      ]
     },
     "metadata": {},
     "output_type": "display_data"
    },
    {
     "data": {
      "text/plain": [
       "<Figure size 1500x500 with 0 Axes>"
      ]
     },
     "metadata": {},
     "output_type": "display_data"
    },
    {
     "data": {
      "text/plain": [
       "<Figure size 1500x500 with 0 Axes>"
      ]
     },
     "metadata": {},
     "output_type": "display_data"
    }
   ],
   "source": [
    "import nibabel as nib\n",
    "import matplotlib.pyplot as plt\n",
    "import os\n",
    "\n",
    "with open('../data/ACDC/test.list', 'r') as f:\n",
    "    test = f.readlines()\n",
    "test = [item.replace('\\n', '') for item in test]\n",
    "\n",
    "file_name_list = []\n",
    "# List of file names\n",
    "exp = '../model/BCP/ACDC_BCP_7_labeled/unet_predictions'\n",
    "for sample in test:\n",
    "    file_name = sample\n",
    "    file_names = [f'{exp}/{file_name}_img.nii.gz', f'{exp}/{file_name}_gt.nii.gz', f'{exp}/{file_name}_pred.nii.gz']\n",
    "    file_name_list.append([sample, file_names])\n",
    "\n",
    "vis_dir = f'{exp}/visualized'\n",
    "os.makedirs(vis_dir, exist_ok=True)\n",
    "\n",
    "for sample, file_names in file_name_list:\n",
    "    plt.clf()\n",
    "    # Create a figure with subplots\n",
    "    fig, axes = plt.subplots(1, 3, figsize=(15, 5))\n",
    "\n",
    "    for i, file_name in enumerate(file_names):\n",
    "        # Load the .nii.gz file\n",
    "        img = nib.load(file_name)\n",
    "        data = img.get_fdata()\n",
    "\n",
    "        # Display a middle slice\n",
    "        slice_index = data.shape[2] // 2\n",
    "        axes[i].imshow(data[:, :, slice_index], cmap='gray')\n",
    "        axes[i].axis('off')\n",
    "        \n",
    "    # Adjust layout\n",
    "    plt.tight_layout()\n",
    "\n",
    "    # Save the figure\n",
    "    plt.savefig(f'{vis_dir}/{sample}.jpg')\n",
    "    \n",
    "plt.close()\n",
    "\n",
    "# Zip file\n",
    "from zipfile import ZipFile \n",
    "import os \n",
    "  \n",
    "def get_all_file_paths(directory): \n",
    "  \n",
    "    # initializing empty file paths list \n",
    "    file_paths = [] \n",
    "  \n",
    "    # crawling through directory and subdirectories \n",
    "    for root, directories, files in os.walk(directory): \n",
    "        for filename in files: \n",
    "            # join the two strings in order to form the full filepath. \n",
    "            filepath = os.path.join(root, filename) \n",
    "            file_paths.append(filepath) \n",
    "  \n",
    "    # returning all file paths \n",
    "    return file_paths \n",
    "\n",
    "directory = vis_dir\n",
    "  \n",
    "# calling function to get all file paths in the directory \n",
    "file_paths = get_all_file_paths(directory) \n",
    "  \n",
    "# printing the list of all files to be zipped \n",
    "print('Following files will be zipped:') \n",
    "for file_name in file_paths: \n",
    "    print(file_name) \n",
    "  \n",
    "# writing files to a zipfile \n",
    "with ZipFile(f'{vis_dir}/pred.zip','w') as zip: \n",
    "    # writing each file one by one \n",
    "    for file in file_paths: \n",
    "        zip.write(file) \n",
    "  \n",
    "print('All files zipped successfully!')  "
   ]
  },
  {
   "cell_type": "code",
   "execution_count": 1,
   "metadata": {},
   "outputs": [
    {
     "name": "stdout",
     "output_type": "stream",
     "text": [
      "Conversion complete. Slices saved to respective folders.\n",
      "Compressed files into ../model/BCP/ACDC_BCP_7_labeled/unet_predictions/slices.zip\n"
     ]
    }
   ],
   "source": [
    "import nibabel as nib\n",
    "import os\n",
    "import matplotlib.pyplot as plt\n",
    "from zipfile import ZipFile\n",
    "\n",
    "# Input list of samples\n",
    "with open('../data/ACDC/test.list', 'r') as f:\n",
    "    test = f.readlines()\n",
    "test = [item.replace('\\n', '') for item in test]\n",
    "\n",
    "# File path configurations\n",
    "exp = '../model/BCP/ACDC_BCP_7_labeled/unet_predictions'\n",
    "output_dirs = {\n",
    "    'image': f'{exp}/slices/image',\n",
    "    'pred': f'{exp}/slices/pred',\n",
    "    'gt': f'{exp}/slices/gt',\n",
    "}\n",
    "\n",
    "# Create output directories if they do not exist\n",
    "for dir_path in output_dirs.values():\n",
    "    os.makedirs(dir_path, exist_ok=True)\n",
    "\n",
    "img_idx = 1\n",
    "\n",
    "# Process each sample\n",
    "for sample in test:\n",
    "    file_paths = {\n",
    "        'image': f'{exp}/{sample}_img.nii.gz',\n",
    "        'pred': f'{exp}/{sample}_pred.nii.gz',\n",
    "        'gt': f'{exp}/{sample}_gt.nii.gz',\n",
    "    }\n",
    "    \n",
    "    for category, file_path in file_paths.items():\n",
    "        # Load the .nii.gz file\n",
    "        img = nib.load(file_path)\n",
    "        data = img.get_fdata()\n",
    "        \n",
    "        # Save each slice as an image\n",
    "        for slice_idx in range(data.shape[2]):  # Iterate through all slices along the z-axis\n",
    "            plt.figure(figsize=(5, 5))\n",
    "            plt.imshow(data[:, :, slice_idx], cmap='gray')\n",
    "            plt.axis('off')\n",
    "            \n",
    "            # Save the slice as an image\n",
    "            save_path = f\"{output_dirs[category]}/img_{img_idx}.jpg\"\n",
    "            plt.savefig(save_path, bbox_inches='tight', pad_inches=0)\n",
    "            plt.close()\n",
    "            \n",
    "    img_idx += 1\n",
    "\n",
    "print(\"Conversion complete. Slices saved to respective folders.\")\n",
    "\n",
    "\n",
    "# Function to compress files into a zip archive\n",
    "def compress_to_zip(source_dir, zip_name):\n",
    "    with ZipFile(zip_name, 'w') as zipf:\n",
    "        for root, _, files in os.walk(source_dir):\n",
    "            for file in files:\n",
    "                file_path = os.path.join(root, file)\n",
    "                arcname = os.path.relpath(file_path, start=source_dir)\n",
    "                zipf.write(file_path, arcname)\n",
    "    print(f\"Compressed files into {zip_name}\")\n",
    "\n",
    "# Compress the slices directory\n",
    "zip_name = f'{exp}/slices.zip'\n",
    "compress_to_zip(f'{exp}/slices', zip_name)"
   ]
  },
  {
   "cell_type": "code",
   "execution_count": 1,
   "metadata": {},
   "outputs": [
    {
     "name": "stdout",
     "output_type": "stream",
     "text": [
      "Slices with overlay saved.\n",
      "Compressed files into ../model/BCP/ACDC_BCP_7_labeled/unet_predictions/slices.zip\n"
     ]
    }
   ],
   "source": [
    "import nibabel as nib\n",
    "import os\n",
    "import matplotlib.pyplot as plt\n",
    "from skimage import measure\n",
    "from zipfile import ZipFile\n",
    "\n",
    "# Input list of samples\n",
    "with open('../data/ACDC/test.list', 'r') as f:\n",
    "    test = f.readlines()\n",
    "test = [item.replace('\\n', '') for item in test]\n",
    "\n",
    "# File path configurations\n",
    "exp = '../model/BCP/ACDC_BCP_7_labeled/unet_predictions'\n",
    "output_dirs = {\n",
    "    'overlay': f'{exp}/slices/overlay',\n",
    "}\n",
    "\n",
    "# Create output directory for overlay\n",
    "os.makedirs(output_dirs['overlay'], exist_ok=True)\n",
    "\n",
    "img_idx = 1\n",
    "\n",
    "# Process each sample\n",
    "for sample in test:\n",
    "    file_paths = {\n",
    "        'pred': f'{exp}/{sample}_pred.nii.gz',\n",
    "        'gt': f'{exp}/{sample}_gt.nii.gz',\n",
    "    }\n",
    "    \n",
    "    # Load the prediction and ground truth images\n",
    "    pred_img = nib.load(file_paths['pred']).get_fdata()\n",
    "    gt_img = nib.load(file_paths['gt']).get_fdata()\n",
    "\n",
    "    # Iterate through slices\n",
    "    for slice_idx in range(pred_img.shape[2]):  # Along the z-axis\n",
    "        pred_slice = pred_img[:, :, slice_idx]\n",
    "        gt_slice = gt_img[:, :, slice_idx]\n",
    "\n",
    "        # Find contours of the ground truth slice\n",
    "        contours = measure.find_contours(gt_slice, level=0.5)\n",
    "\n",
    "        # Plot the prediction image\n",
    "        plt.figure(figsize=(5, 5))\n",
    "        plt.imshow(pred_slice, cmap='gray')\n",
    "        \n",
    "        # Overlay the contours\n",
    "        for contour in contours:\n",
    "            plt.plot(contour[:, 1], contour[:, 0], color='red', linewidth=1.5)\n",
    "\n",
    "        plt.axis('off')\n",
    "        \n",
    "        # Save the overlayed image\n",
    "        save_path = f\"{output_dirs['overlay']}/img_{img_idx}.jpg\"\n",
    "        plt.savefig(save_path, bbox_inches='tight', pad_inches=0)\n",
    "        plt.close()\n",
    "        \n",
    "    img_idx += 1\n",
    "    \n",
    "\n",
    "print(\"Slices with overlay saved.\")\n",
    "\n",
    "# Function to compress files into a zip archive\n",
    "def compress_to_zip(source_dir, zip_name):\n",
    "    with ZipFile(zip_name, 'w') as zipf:\n",
    "        for root, _, files in os.walk(source_dir):\n",
    "            for file in files:\n",
    "                file_path = os.path.join(root, file)\n",
    "                arcname = os.path.relpath(file_path, start=source_dir)\n",
    "                zipf.write(file_path, arcname)\n",
    "    print(f\"Compressed files into {zip_name}\")\n",
    "\n",
    "# Compress the overlay slices directory\n",
    "zip_name = f'{exp}/slices.zip'\n",
    "compress_to_zip(f'{exp}/slices', zip_name)"
   ]
  }
 ],
 "metadata": {
  "kernelspec": {
   "display_name": "semi",
   "language": "python",
   "name": "python3"
  },
  "language_info": {
   "codemirror_mode": {
    "name": "ipython",
    "version": 3
   },
   "file_extension": ".py",
   "mimetype": "text/x-python",
   "name": "python",
   "nbconvert_exporter": "python",
   "pygments_lexer": "ipython3",
   "version": "3.9.19"
  }
 },
 "nbformat": 4,
 "nbformat_minor": 2
}
